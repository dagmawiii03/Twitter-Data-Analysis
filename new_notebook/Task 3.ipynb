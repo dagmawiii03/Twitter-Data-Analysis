{
 "cells": [
  {
   "cell_type": "code",
   "execution_count": 3,
   "id": "d6bde451",
   "metadata": {},
   "outputs": [
    {
     "ename": "ModuleNotFoundError",
     "evalue": "No module named 'gensim'",
     "output_type": "error",
     "traceback": [
      "\u001b[1;31m---------------------------------------------------------------------------\u001b[0m",
      "\u001b[1;31mModuleNotFoundError\u001b[0m                       Traceback (most recent call last)",
      "\u001b[1;32m<ipython-input-3-50d9954393dd>\u001b[0m in \u001b[0;36m<module>\u001b[1;34m\u001b[0m\n\u001b[0;32m      5\u001b[0m \u001b[1;32mimport\u001b[0m \u001b[0mmatplotlib\u001b[0m\u001b[1;33m.\u001b[0m\u001b[0mpyplot\u001b[0m \u001b[1;32mas\u001b[0m \u001b[0mplt\u001b[0m\u001b[1;33m\u001b[0m\u001b[1;33m\u001b[0m\u001b[0m\n\u001b[0;32m      6\u001b[0m \u001b[1;32mimport\u001b[0m \u001b[0mseaborn\u001b[0m \u001b[1;32mas\u001b[0m \u001b[0msns\u001b[0m\u001b[1;33m\u001b[0m\u001b[1;33m\u001b[0m\u001b[0m\n\u001b[1;32m----> 7\u001b[1;33m \u001b[1;32mfrom\u001b[0m \u001b[0mgensim\u001b[0m \u001b[1;32mimport\u001b[0m \u001b[0mcorpora\u001b[0m\u001b[1;33m\u001b[0m\u001b[1;33m\u001b[0m\u001b[0m\n\u001b[0m\u001b[0;32m      8\u001b[0m \u001b[1;32mimport\u001b[0m \u001b[0mnumpy\u001b[0m \u001b[1;32mas\u001b[0m \u001b[0mnp\u001b[0m\u001b[1;33m\u001b[0m\u001b[1;33m\u001b[0m\u001b[0m\n\u001b[0;32m      9\u001b[0m \u001b[1;32mimport\u001b[0m \u001b[0mstring\u001b[0m\u001b[1;33m\u001b[0m\u001b[1;33m\u001b[0m\u001b[0m\n",
      "\u001b[1;31mModuleNotFoundError\u001b[0m: No module named 'gensim'"
     ]
    }
   ],
   "source": [
    "import os\n",
    "import sys\n",
    "import inspect\n",
    "import pandas as pd\n",
    "import matplotlib.pyplot as plt\n",
    "import seaborn as sns\n",
    "from wordcloud import STOPWORDS,WordCloud\n",
    "from gensim import corpora\n",
    "import numpy as np\n",
    "import string"
   ]
  },
  {
   "cell_type": "code",
   "execution_count": 26,
   "id": "0f2ea663",
   "metadata": {},
   "outputs": [
    {
     "data": {
      "text/html": [
       "<div>\n",
       "<style scoped>\n",
       "    .dataframe tbody tr th:only-of-type {\n",
       "        vertical-align: middle;\n",
       "    }\n",
       "\n",
       "    .dataframe tbody tr th {\n",
       "        vertical-align: top;\n",
       "    }\n",
       "\n",
       "    .dataframe thead th {\n",
       "        text-align: right;\n",
       "    }\n",
       "</style>\n",
       "<table border=\"1\" class=\"dataframe\">\n",
       "  <thead>\n",
       "    <tr style=\"text-align: right;\">\n",
       "      <th></th>\n",
       "      <th>Unnamed: 0</th>\n",
       "      <th>created_at</th>\n",
       "      <th>source</th>\n",
       "      <th>original_text</th>\n",
       "      <th>clean_text</th>\n",
       "      <th>polarity</th>\n",
       "      <th>subjectivity</th>\n",
       "      <th>lang</th>\n",
       "      <th>favorite_count</th>\n",
       "      <th>retweet_count</th>\n",
       "      <th>original_author</th>\n",
       "      <th>followers_count</th>\n",
       "      <th>friends_count</th>\n",
       "      <th>possibly_sensitive</th>\n",
       "      <th>hashtags</th>\n",
       "      <th>user_mentions</th>\n",
       "      <th>place</th>\n",
       "    </tr>\n",
       "  </thead>\n",
       "  <tbody>\n",
       "    <tr>\n",
       "      <th>0</th>\n",
       "      <td>38</td>\n",
       "      <td>Fri Apr 22 22:17:05 +0000 2022</td>\n",
       "      <td>&lt;a href=\"http://twitter.com/download/android\" ...</td>\n",
       "      <td>RT @NorthstarCharts: The 10-year yield is tell...</td>\n",
       "      <td>The 10-year yield is telling us that there's a...</td>\n",
       "      <td>0.16</td>\n",
       "      <td>0.540000</td>\n",
       "      <td>en</td>\n",
       "      <td>0.0</td>\n",
       "      <td>43.0</td>\n",
       "      <td>davideiacovozzi</td>\n",
       "      <td>18</td>\n",
       "      <td>55</td>\n",
       "      <td>NaN</td>\n",
       "      <td>[{'text': 'gold', 'indices': [116, 121]}, {'te...</td>\n",
       "      <td>NorthstarCharts</td>\n",
       "      <td>NaN</td>\n",
       "    </tr>\n",
       "    <tr>\n",
       "      <th>1</th>\n",
       "      <td>39</td>\n",
       "      <td>Fri Apr 22 13:44:53 +0000 2022</td>\n",
       "      <td>&lt;a href=\"http://twitter.com/download/android\" ...</td>\n",
       "      <td>RT @MichaelAArouet: German 10y mortgage rate w...</td>\n",
       "      <td>German 10y mortgage rate went from 0,8% to 2,5...</td>\n",
       "      <td>0.15</td>\n",
       "      <td>0.175000</td>\n",
       "      <td>en</td>\n",
       "      <td>0.0</td>\n",
       "      <td>32.0</td>\n",
       "      <td>davideiacovozzi</td>\n",
       "      <td>18</td>\n",
       "      <td>55</td>\n",
       "      <td>NaN</td>\n",
       "      <td>[]</td>\n",
       "      <td>MichaelAArouet</td>\n",
       "      <td>NaN</td>\n",
       "    </tr>\n",
       "    <tr>\n",
       "      <th>2</th>\n",
       "      <td>41</td>\n",
       "      <td>Fri Apr 22 06:10:34 +0000 2022</td>\n",
       "      <td>&lt;a href=\"http://twitter.com/download/android\" ...</td>\n",
       "      <td>RT @goldseek: When? https://t.co/kO2FfHKaZg</td>\n",
       "      <td>When? https://t.co/kO2FfHKaZg</td>\n",
       "      <td>0.00</td>\n",
       "      <td>0.000000</td>\n",
       "      <td>en</td>\n",
       "      <td>0.0</td>\n",
       "      <td>26.0</td>\n",
       "      <td>davideiacovozzi</td>\n",
       "      <td>18</td>\n",
       "      <td>55</td>\n",
       "      <td>False</td>\n",
       "      <td>[]</td>\n",
       "      <td>goldseek</td>\n",
       "      <td>NaN</td>\n",
       "    </tr>\n",
       "    <tr>\n",
       "      <th>3</th>\n",
       "      <td>42</td>\n",
       "      <td>Thu Apr 21 17:22:09 +0000 2022</td>\n",
       "      <td>&lt;a href=\"http://twitter.com/download/android\" ...</td>\n",
       "      <td>RT @charliebilello: The 30-year mortgage rate ...</td>\n",
       "      <td>The 30-year mortgage rate in the US rises to 5...</td>\n",
       "      <td>0.00</td>\n",
       "      <td>0.066667</td>\n",
       "      <td>en</td>\n",
       "      <td>0.0</td>\n",
       "      <td>213.0</td>\n",
       "      <td>davideiacovozzi</td>\n",
       "      <td>18</td>\n",
       "      <td>55</td>\n",
       "      <td>NaN</td>\n",
       "      <td>[]</td>\n",
       "      <td>charliebilello</td>\n",
       "      <td>NaN</td>\n",
       "    </tr>\n",
       "    <tr>\n",
       "      <th>4</th>\n",
       "      <td>43</td>\n",
       "      <td>Thu Apr 21 10:32:26 +0000 2022</td>\n",
       "      <td>&lt;a href=\"http://twitter.com/download/android\" ...</td>\n",
       "      <td>RT @biancoresearch: Rates rise until something...</td>\n",
       "      <td>Rates rise until something breaks … is anythin...</td>\n",
       "      <td>-0.40</td>\n",
       "      <td>0.400000</td>\n",
       "      <td>en</td>\n",
       "      <td>0.0</td>\n",
       "      <td>417.0</td>\n",
       "      <td>davideiacovozzi</td>\n",
       "      <td>18</td>\n",
       "      <td>55</td>\n",
       "      <td>False</td>\n",
       "      <td>[]</td>\n",
       "      <td>biancoresearch</td>\n",
       "      <td>NaN</td>\n",
       "    </tr>\n",
       "  </tbody>\n",
       "</table>\n",
       "</div>"
      ],
      "text/plain": [
       "   Unnamed: 0                      created_at  \\\n",
       "0          38  Fri Apr 22 22:17:05 +0000 2022   \n",
       "1          39  Fri Apr 22 13:44:53 +0000 2022   \n",
       "2          41  Fri Apr 22 06:10:34 +0000 2022   \n",
       "3          42  Thu Apr 21 17:22:09 +0000 2022   \n",
       "4          43  Thu Apr 21 10:32:26 +0000 2022   \n",
       "\n",
       "                                              source  \\\n",
       "0  <a href=\"http://twitter.com/download/android\" ...   \n",
       "1  <a href=\"http://twitter.com/download/android\" ...   \n",
       "2  <a href=\"http://twitter.com/download/android\" ...   \n",
       "3  <a href=\"http://twitter.com/download/android\" ...   \n",
       "4  <a href=\"http://twitter.com/download/android\" ...   \n",
       "\n",
       "                                       original_text  \\\n",
       "0  RT @NorthstarCharts: The 10-year yield is tell...   \n",
       "1  RT @MichaelAArouet: German 10y mortgage rate w...   \n",
       "2        RT @goldseek: When? https://t.co/kO2FfHKaZg   \n",
       "3  RT @charliebilello: The 30-year mortgage rate ...   \n",
       "4  RT @biancoresearch: Rates rise until something...   \n",
       "\n",
       "                                          clean_text  polarity  subjectivity  \\\n",
       "0  The 10-year yield is telling us that there's a...      0.16      0.540000   \n",
       "1  German 10y mortgage rate went from 0,8% to 2,5...      0.15      0.175000   \n",
       "2                      When? https://t.co/kO2FfHKaZg      0.00      0.000000   \n",
       "3  The 30-year mortgage rate in the US rises to 5...      0.00      0.066667   \n",
       "4  Rates rise until something breaks … is anythin...     -0.40      0.400000   \n",
       "\n",
       "  lang  favorite_count  retweet_count  original_author  followers_count  \\\n",
       "0   en             0.0           43.0  davideiacovozzi               18   \n",
       "1   en             0.0           32.0  davideiacovozzi               18   \n",
       "2   en             0.0           26.0  davideiacovozzi               18   \n",
       "3   en             0.0          213.0  davideiacovozzi               18   \n",
       "4   en             0.0          417.0  davideiacovozzi               18   \n",
       "\n",
       "   friends_count possibly_sensitive  \\\n",
       "0             55                NaN   \n",
       "1             55                NaN   \n",
       "2             55              False   \n",
       "3             55                NaN   \n",
       "4             55              False   \n",
       "\n",
       "                                            hashtags    user_mentions place  \n",
       "0  [{'text': 'gold', 'indices': [116, 121]}, {'te...  NorthstarCharts   NaN  \n",
       "1                                                 []   MichaelAArouet   NaN  \n",
       "2                                                 []         goldseek   NaN  \n",
       "3                                                 []   charliebilello   NaN  \n",
       "4                                                 []   biancoresearch   NaN  "
      ]
     },
     "execution_count": 26,
     "metadata": {},
     "output_type": "execute_result"
    }
   ],
   "source": [
    "processed = pd.read_csv('../data/processed_tweet_data.csv')\n",
    "processed.head()"
   ]
  },
  {
   "cell_type": "code",
   "execution_count": 27,
   "id": "3ea00860",
   "metadata": {},
   "outputs": [
    {
     "data": {
      "text/plain": [
       "Index(['Unnamed: 0', 'created_at', 'source', 'original_text', 'clean_text',\n",
       "       'polarity', 'subjectivity', 'lang', 'favorite_count', 'retweet_count',\n",
       "       'original_author', 'followers_count', 'friends_count',\n",
       "       'possibly_sensitive', 'hashtags', 'user_mentions', 'place'],\n",
       "      dtype='object')"
      ]
     },
     "execution_count": 27,
     "metadata": {},
     "output_type": "execute_result"
    }
   ],
   "source": [
    "processed_tweets.columns"
   ]
  },
  {
   "cell_type": "code",
   "execution_count": 8,
   "id": "6f4d7c7b",
   "metadata": {},
   "outputs": [
    {
     "name": "stdout",
     "output_type": "stream",
     "text": [
      "<class 'pandas.core.frame.DataFrame'>\n",
      "RangeIndex: 16465 entries, 0 to 16464\n",
      "Data columns (total 17 columns):\n",
      " #   Column              Non-Null Count  Dtype  \n",
      "---  ------              --------------  -----  \n",
      " 0   Unnamed: 0          16465 non-null  int64  \n",
      " 1   created_at          16465 non-null  object \n",
      " 2   source              16465 non-null  object \n",
      " 3   original_text       16465 non-null  object \n",
      " 4   clean_text          8220 non-null   object \n",
      " 5   polarity            16465 non-null  float64\n",
      " 6   subjectivity        16465 non-null  float64\n",
      " 7   lang                16465 non-null  object \n",
      " 8   favorite_count      16465 non-null  float64\n",
      " 9   retweet_count       16465 non-null  float64\n",
      " 10  original_author     16465 non-null  object \n",
      " 11  followers_count     16465 non-null  int64  \n",
      " 12  friends_count       16465 non-null  int64  \n",
      " 13  possibly_sensitive  6206 non-null   object \n",
      " 14  hashtags            16465 non-null  object \n",
      " 15  user_mentions       12158 non-null  object \n",
      " 16  place               10758 non-null  object \n",
      "dtypes: float64(4), int64(3), object(10)\n",
      "memory usage: 2.1+ MB\n"
     ]
    }
   ],
   "source": [
    "processed_tweets.info()"
   ]
  },
  {
   "cell_type": "code",
   "execution_count": 28,
   "id": "ece2a54e",
   "metadata": {},
   "outputs": [
    {
     "data": {
      "text/plain": [
       "(16465, 17)"
      ]
     },
     "execution_count": 28,
     "metadata": {},
     "output_type": "execute_result"
    }
   ],
   "source": [
    "processed_tweets.shape"
   ]
  },
  {
   "cell_type": "code",
   "execution_count": 29,
   "id": "f0fde1a3",
   "metadata": {},
   "outputs": [
    {
     "name": "stdout",
     "output_type": "stream",
     "text": [
      "missing values in each column is: \n",
      "Unnamed: 0                0\n",
      "created_at                0\n",
      "source                    0\n",
      "original_text             0\n",
      "clean_text             8245\n",
      "polarity                  0\n",
      "subjectivity              0\n",
      "lang                      0\n",
      "favorite_count            0\n",
      "retweet_count             0\n",
      "original_author           0\n",
      "followers_count           0\n",
      "friends_count             0\n",
      "possibly_sensitive    10259\n",
      "hashtags                  0\n",
      "user_mentions          4307\n",
      "place                  5707\n",
      "dtype: int64\n",
      "total number of missing value is: 28518\n",
      "Columns with missing values are:Index(['clean_text', 'possibly_sensitive', 'user_mentions', 'place'], dtype='object')\n"
     ]
    }
   ],
   "source": [
    "print(\"missing values in each column is: \\n{}\".format(processed_tweets.isnull().sum()))\n",
    "print(\"total number of missing value is: {}\".format(processed_tweets.isnull().sum().sum()))\n",
    "print(\"Columns with missing values are:{}\".format(processed_tweets.columns[processed_tweets.isnull().any()]))"
   ]
  },
  {
   "cell_type": "code",
   "execution_count": 30,
   "id": "b3929998",
   "metadata": {},
   "outputs": [],
   "source": [
    "import os\n",
    "c_directory = os.path.dirname(os.path.abspath(inspect.getfile(inspect.currentframe())))\n",
    "p_directory = os.path.dirname(c_directory)\n",
    "sys.path.insert(0, p_directory) "
   ]
  },
  {
   "cell_type": "code",
   "execution_count": 31,
   "id": "d4e99675",
   "metadata": {},
   "outputs": [
    {
     "data": {
      "text/html": [
       "<div>\n",
       "<style scoped>\n",
       "    .dataframe tbody tr th:only-of-type {\n",
       "        vertical-align: middle;\n",
       "    }\n",
       "\n",
       "    .dataframe tbody tr th {\n",
       "        vertical-align: top;\n",
       "    }\n",
       "\n",
       "    .dataframe thead th {\n",
       "        text-align: right;\n",
       "    }\n",
       "</style>\n",
       "<table border=\"1\" class=\"dataframe\">\n",
       "  <thead>\n",
       "    <tr style=\"text-align: right;\">\n",
       "      <th></th>\n",
       "      <th>clean_text</th>\n",
       "      <th>polarity</th>\n",
       "    </tr>\n",
       "  </thead>\n",
       "  <tbody>\n",
       "    <tr>\n",
       "      <th>0</th>\n",
       "      <td>The 10-year yield is telling us that there's a...</td>\n",
       "      <td>0.16</td>\n",
       "    </tr>\n",
       "    <tr>\n",
       "      <th>1</th>\n",
       "      <td>German 10y mortgage rate went from 0,8% to 2,5...</td>\n",
       "      <td>0.15</td>\n",
       "    </tr>\n",
       "    <tr>\n",
       "      <th>2</th>\n",
       "      <td>When? https://t.co/kO2FfHKaZg</td>\n",
       "      <td>0.00</td>\n",
       "    </tr>\n",
       "    <tr>\n",
       "      <th>3</th>\n",
       "      <td>The 30-year mortgage rate in the US rises to 5...</td>\n",
       "      <td>0.00</td>\n",
       "    </tr>\n",
       "    <tr>\n",
       "      <th>4</th>\n",
       "      <td>Rates rise until something breaks … is anythin...</td>\n",
       "      <td>-0.40</td>\n",
       "    </tr>\n",
       "  </tbody>\n",
       "</table>\n",
       "</div>"
      ],
      "text/plain": [
       "                                          clean_text  polarity\n",
       "0  The 10-year yield is telling us that there's a...      0.16\n",
       "1  German 10y mortgage rate went from 0,8% to 2,5...      0.15\n",
       "2                      When? https://t.co/kO2FfHKaZg      0.00\n",
       "3  The 30-year mortgage rate in the US rises to 5...      0.00\n",
       "4  Rates rise until something breaks … is anythin...     -0.40"
      ]
     },
     "execution_count": 31,
     "metadata": {},
     "output_type": "execute_result"
    }
   ],
   "source": [
    "import sys\n",
    "clean_tweet = pd.DataFrame(columns=['clean_text','polarity']) #create a new DataFrame(clean tweet ) with seris clean_txt and\n",
    "clean_tweet['clean_text'] =  processed['clean_text'].to_list()   #polarity convert the series clean text and polarity to list\n",
    "clean_tweet['polarity'] =  processed['polarity'].to_list()\n",
    "clean_tweet.head()\n"
   ]
  },
  {
   "cell_type": "code",
   "execution_count": 34,
   "id": "4616dba6",
   "metadata": {},
   "outputs": [
    {
     "data": {
      "text/html": [
       "<div>\n",
       "<style scoped>\n",
       "    .dataframe tbody tr th:only-of-type {\n",
       "        vertical-align: middle;\n",
       "    }\n",
       "\n",
       "    .dataframe tbody tr th {\n",
       "        vertical-align: top;\n",
       "    }\n",
       "\n",
       "    .dataframe thead th {\n",
       "        text-align: right;\n",
       "    }\n",
       "</style>\n",
       "<table border=\"1\" class=\"dataframe\">\n",
       "  <thead>\n",
       "    <tr style=\"text-align: right;\">\n",
       "      <th></th>\n",
       "      <th>original_text</th>\n",
       "      <th>polarity</th>\n",
       "      <th>lang</th>\n",
       "      <th>hashtags</th>\n",
       "    </tr>\n",
       "  </thead>\n",
       "  <tbody>\n",
       "    <tr>\n",
       "      <th>0</th>\n",
       "      <td>RT @NorthstarCharts: The 10-year yield is tell...</td>\n",
       "      <td>0.16</td>\n",
       "      <td>en</td>\n",
       "      <td>[{'text': 'gold', 'indices': [116, 121]}, {'te...</td>\n",
       "    </tr>\n",
       "    <tr>\n",
       "      <th>1</th>\n",
       "      <td>RT @MichaelAArouet: German 10y mortgage rate w...</td>\n",
       "      <td>0.15</td>\n",
       "      <td>en</td>\n",
       "      <td>[]</td>\n",
       "    </tr>\n",
       "    <tr>\n",
       "      <th>2</th>\n",
       "      <td>RT @goldseek: When? https://t.co/kO2FfHKaZg</td>\n",
       "      <td>0.00</td>\n",
       "      <td>en</td>\n",
       "      <td>[]</td>\n",
       "    </tr>\n",
       "    <tr>\n",
       "      <th>3</th>\n",
       "      <td>RT @charliebilello: The 30-year mortgage rate ...</td>\n",
       "      <td>0.00</td>\n",
       "      <td>en</td>\n",
       "      <td>[]</td>\n",
       "    </tr>\n",
       "    <tr>\n",
       "      <th>4</th>\n",
       "      <td>RT @biancoresearch: Rates rise until something...</td>\n",
       "      <td>-0.40</td>\n",
       "      <td>en</td>\n",
       "      <td>[]</td>\n",
       "    </tr>\n",
       "  </tbody>\n",
       "</table>\n",
       "</div>"
      ],
      "text/plain": [
       "                                       original_text  polarity lang  \\\n",
       "0  RT @NorthstarCharts: The 10-year yield is tell...      0.16   en   \n",
       "1  RT @MichaelAArouet: German 10y mortgage rate w...      0.15   en   \n",
       "2        RT @goldseek: When? https://t.co/kO2FfHKaZg      0.00   en   \n",
       "3  RT @charliebilello: The 30-year mortgage rate ...      0.00   en   \n",
       "4  RT @biancoresearch: Rates rise until something...     -0.40   en   \n",
       "\n",
       "                                            hashtags  \n",
       "0  [{'text': 'gold', 'indices': [116, 121]}, {'te...  \n",
       "1                                                 []  \n",
       "2                                                 []  \n",
       "3                                                 []  \n",
       "4                                                 []  "
      ]
     },
     "execution_count": 34,
     "metadata": {},
     "output_type": "execute_result"
    }
   ],
   "source": [
    "new_data = pd.DataFrame(columns=['original_text','polarity','lang','hashtags'])\n",
    "\n",
    "new_data['original_text'] =  processed['original_text'].to_list()\n",
    "new_data['polarity'] =  processed['polarity'].to_list()\n",
    "new_data['lang'] = processed['lang'].to_list()\n",
    "new_data['hashtags'] = processed['hashtags'].to_list()\n",
    "\n",
    "new_data.head()"
   ]
  },
  {
   "cell_type": "code",
   "execution_count": 41,
   "id": "de9043b4",
   "metadata": {},
   "outputs": [
    {
     "ename": "ModuleNotFoundError",
     "evalue": "No module named 'clean_tweets_dataframe'",
     "output_type": "error",
     "traceback": [
      "\u001b[1;31m---------------------------------------------------------------------------\u001b[0m",
      "\u001b[1;31mModuleNotFoundError\u001b[0m                       Traceback (most recent call last)",
      "\u001b[1;32m<ipython-input-41-64e322792f80>\u001b[0m in \u001b[0;36m<module>\u001b[1;34m\u001b[0m\n\u001b[1;32m----> 1\u001b[1;33m \u001b[1;32mfrom\u001b[0m \u001b[0mclean_tweets_dataframe\u001b[0m \u001b[1;32mimport\u001b[0m \u001b[0mClean_Tweets\u001b[0m\u001b[1;33m\u001b[0m\u001b[1;33m\u001b[0m\u001b[0m\n\u001b[0m\u001b[0;32m      2\u001b[0m \u001b[0mclean_tweet\u001b[0m\u001b[1;33m.\u001b[0m\u001b[0madd_clean_text\u001b[0m\u001b[1;33m(\u001b[0m\u001b[0mnew_data\u001b[0m\u001b[1;33m)\u001b[0m\u001b[1;33m\u001b[0m\u001b[1;33m\u001b[0m\u001b[0m\n\u001b[0;32m      3\u001b[0m \u001b[0mnew_data\u001b[0m\u001b[1;33m\u001b[0m\u001b[1;33m\u001b[0m\u001b[0m\n",
      "\u001b[1;31mModuleNotFoundError\u001b[0m: No module named 'clean_tweets_dataframe'"
     ]
    }
   ],
   "source": [
    "clean_tweet.add_clean_text(new_data)\n",
    "new_data"
   ]
  },
  {
   "cell_type": "code",
   "execution_count": 42,
   "id": "13d1e681",
   "metadata": {},
   "outputs": [],
   "source": []
  },
  {
   "cell_type": "code",
   "execution_count": null,
   "id": "250da09f",
   "metadata": {},
   "outputs": [],
   "source": []
  }
 ],
 "metadata": {
  "kernelspec": {
   "display_name": "Python 3",
   "language": "python",
   "name": "python3"
  },
  "language_info": {
   "codemirror_mode": {
    "name": "ipython",
    "version": 3
   },
   "file_extension": ".py",
   "mimetype": "text/x-python",
   "name": "python",
   "nbconvert_exporter": "python",
   "pygments_lexer": "ipython3",
   "version": "3.8.8"
  }
 },
 "nbformat": 4,
 "nbformat_minor": 5
}
